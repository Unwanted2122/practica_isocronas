{
 "cells": [
  {
   "cell_type": "code",
   "execution_count": 2,
   "metadata": {},
   "outputs": [
    {
     "name": "stdout",
     "output_type": "stream",
     "text": [
      "        Nombres Apellido Paterno Apellido Materno                       CCT  \\\n",
      "0       Ana Luz           Suárez             Luna          Maria Luisa Ross   \n",
      "1  Luis Roberto          Ramírez          Jiménez      Enrique de Olavarr�a   \n",
      "2       Ana Luz           Suárez             Luna             Independencia   \n",
      "3  Luis Roberto          Ramírez          Jiménez  Maestro Ernesto Alconedo   \n",
      "4       Ana Luz           Suárez             Luna              Luis Cabrera   \n",
      "\n",
      "     LATITUD   LONGITUD  \n",
      "0  19.375208 -99.230397  \n",
      "1  19.376023 -99.188159  \n",
      "2  19.297861 -99.649142  \n",
      "3  19.381043 -99.163434  \n",
      "4  19.371972 -99.159487  \n"
     ]
    }
   ],
   "source": [
    "import pandas as pd\n",
    "\n",
    "# Leer el archivo CSV\n",
    "df = pd.read_csv('plazas_prueba.csv')\n",
    "\n",
    "# Mostrar las primeras filas del DataFrame\n",
    "print(df.head())"
   ]
  },
  {
   "cell_type": "code",
   "execution_count": 3,
   "metadata": {},
   "outputs": [],
   "source": [
    "import requests\n",
    "\n",
    "# FUNCIÓN PARA HACER SOLICITUDES A LA API MAPBOX ISOCHRONES\n",
    "def mapbox_isochrone(base_url, routing_profile, lon, lat, mins=None, meters=None, access_token=None):\n",
    "    \"\"\"\n",
    "    Realiza una solicitud a la API Mapbox Isochrones y devuelve un GeoDataFrame con los vértices de la isócrona.\n",
    "    \"\"\"\n",
    "    # Construye la URL de la solicitud\n",
    "    if meters is not None:\n",
    "        query = f\"?contours_meters={meters}\"\n",
    "    elif mins is not None:\n",
    "        query = f\"?contours_minutes={mins}\"\n",
    "    else:\n",
    "        raise ValueError(\"Debes especificar 'mins' o 'meters'.\")\n",
    "    \n",
    "    url = f\"{base_url}{routing_profile}/{lon},{lat}{query}&polygons=true&denoise=1&access_token={access_token}\"\n",
    "\n",
    "    # Realiza la solicitud a la API\n",
    "    response = requests.get(url)\n",
    "    response.raise_for_status()  # Lanza un error si la solicitud falla\n",
    "    \n",
    "    # Procesa los datos recibidos\n",
    "    geom = response.json()[\"features\"][0][\"geometry\"][\"coordinates\"][0]\n",
    "\n",
    "    # Convierte las coordenadas a un DataFrame\n",
    "    coords = pd.DataFrame(geom, columns=[\"lon\", \"lat\"])\n",
    "    return coords"
   ]
  },
  {
   "cell_type": "code",
   "execution_count": 4,
   "metadata": {},
   "outputs": [
    {
     "data": {
      "text/html": [
       "<div>\n",
       "<style scoped>\n",
       "    .dataframe tbody tr th:only-of-type {\n",
       "        vertical-align: middle;\n",
       "    }\n",
       "\n",
       "    .dataframe tbody tr th {\n",
       "        vertical-align: top;\n",
       "    }\n",
       "\n",
       "    .dataframe thead th {\n",
       "        text-align: right;\n",
       "    }\n",
       "</style>\n",
       "<table border=\"1\" class=\"dataframe\">\n",
       "  <thead>\n",
       "    <tr style=\"text-align: right;\">\n",
       "      <th></th>\n",
       "      <th>lon</th>\n",
       "      <th>lat</th>\n",
       "    </tr>\n",
       "  </thead>\n",
       "  <tbody>\n",
       "    <tr>\n",
       "      <th>0</th>\n",
       "      <td>-99.185823</td>\n",
       "      <td>19.341088</td>\n",
       "    </tr>\n",
       "    <tr>\n",
       "      <th>1</th>\n",
       "      <td>-99.186794</td>\n",
       "      <td>19.341029</td>\n",
       "    </tr>\n",
       "    <tr>\n",
       "      <th>2</th>\n",
       "      <td>-99.187358</td>\n",
       "      <td>19.339593</td>\n",
       "    </tr>\n",
       "    <tr>\n",
       "      <th>3</th>\n",
       "      <td>-99.188514</td>\n",
       "      <td>19.339059</td>\n",
       "    </tr>\n",
       "    <tr>\n",
       "      <th>4</th>\n",
       "      <td>-99.189093</td>\n",
       "      <td>19.338059</td>\n",
       "    </tr>\n",
       "    <tr>\n",
       "      <th>5</th>\n",
       "      <td>-99.187823</td>\n",
       "      <td>19.336529</td>\n",
       "    </tr>\n",
       "    <tr>\n",
       "      <th>6</th>\n",
       "      <td>-99.185823</td>\n",
       "      <td>19.335395</td>\n",
       "    </tr>\n",
       "    <tr>\n",
       "      <th>7</th>\n",
       "      <td>-99.184823</td>\n",
       "      <td>19.335892</td>\n",
       "    </tr>\n",
       "    <tr>\n",
       "      <th>8</th>\n",
       "      <td>-99.183823</td>\n",
       "      <td>19.335570</td>\n",
       "    </tr>\n",
       "    <tr>\n",
       "      <th>9</th>\n",
       "      <td>-99.182823</td>\n",
       "      <td>19.335835</td>\n",
       "    </tr>\n",
       "    <tr>\n",
       "      <th>10</th>\n",
       "      <td>-99.181668</td>\n",
       "      <td>19.337059</td>\n",
       "    </tr>\n",
       "    <tr>\n",
       "      <th>11</th>\n",
       "      <td>-99.181906</td>\n",
       "      <td>19.339059</td>\n",
       "    </tr>\n",
       "    <tr>\n",
       "      <th>12</th>\n",
       "      <td>-99.182309</td>\n",
       "      <td>19.339573</td>\n",
       "    </tr>\n",
       "    <tr>\n",
       "      <th>13</th>\n",
       "      <td>-99.183823</td>\n",
       "      <td>19.339636</td>\n",
       "    </tr>\n",
       "    <tr>\n",
       "      <th>14</th>\n",
       "      <td>-99.184456</td>\n",
       "      <td>19.340426</td>\n",
       "    </tr>\n",
       "    <tr>\n",
       "      <th>15</th>\n",
       "      <td>-99.185823</td>\n",
       "      <td>19.341088</td>\n",
       "    </tr>\n",
       "  </tbody>\n",
       "</table>\n",
       "</div>"
      ],
      "text/plain": [
       "          lon        lat\n",
       "0  -99.185823  19.341088\n",
       "1  -99.186794  19.341029\n",
       "2  -99.187358  19.339593\n",
       "3  -99.188514  19.339059\n",
       "4  -99.189093  19.338059\n",
       "5  -99.187823  19.336529\n",
       "6  -99.185823  19.335395\n",
       "7  -99.184823  19.335892\n",
       "8  -99.183823  19.335570\n",
       "9  -99.182823  19.335835\n",
       "10 -99.181668  19.337059\n",
       "11 -99.181906  19.339059\n",
       "12 -99.182309  19.339573\n",
       "13 -99.183823  19.339636\n",
       "14 -99.184456  19.340426\n",
       "15 -99.185823  19.341088"
      ]
     },
     "execution_count": 4,
     "metadata": {},
     "output_type": "execute_result"
    }
   ],
   "source": [
    "# PRUEBA DE LA FUNCIÓN\n",
    "test_coords = mapbox_isochrone(\n",
    "    base_url=\"https://api.mapbox.com/isochrone/v1/mapbox/\",\n",
    "    routing_profile=\"walking\",\n",
    "    lon=-99.184823289979, lat=19.33905855077223,\n",
    "    meters=500,\n",
    "    access_token=\"pk.eyJ1IjoiY2FybG9hZDEzMTciLCJhIjoiY200aXAzaG9lMDRrcDJyb3BlMWs5bjZxbyJ9.cMOjch9URfW3X133K7MDQw\"\n",
    ")\n",
    "\n",
    "test_coords"
   ]
  },
  {
   "cell_type": "code",
   "execution_count": 5,
   "metadata": {},
   "outputs": [
    {
     "name": "stdout",
     "output_type": "stream",
     "text": [
      "Obteniendo isócrona para la escuela 1 de 5...\n",
      "Tiempo estimado restante: 0.02 minutos\n",
      "Obteniendo isócrona para la escuela 2 de 5...\n",
      "Tiempo estimado restante: 0.02 minutos\n",
      "Obteniendo isócrona para la escuela 3 de 5...\n",
      "Tiempo estimado restante: 0.01 minutos\n",
      "Obteniendo isócrona para la escuela 4 de 5...\n",
      "Tiempo estimado restante: 0.01 minutos\n",
      "Obteniendo isócrona para la escuela 5 de 5...\n",
      "Tiempo estimado restante: 0.00 minutos\n"
     ]
    }
   ],
   "source": [
    "import time\n",
    "from shapely.geometry import Polygon\n",
    "\n",
    "dataframe_ciclo = df  # Asignar el DataFrame que contiene los centros de trabajo\n",
    "\n",
    "# CICLO PARA OBTENER ISÓCRONAS DE TODOS LOS CENTROS DE TRABAJO\n",
    "isochrone_list = []  # Lista para guardar las isócronas\n",
    "times = []  # Para estimar el tiempo de ejecución\n",
    "\n",
    "for idx, row in dataframe_ciclo.iterrows():\n",
    "    start_time = time.time()\n",
    "    print(f\"Obteniendo isócrona para la escuela {idx + 1} de {len(dataframe_ciclo)}...\")\n",
    "\n",
    "    try:\n",
    "        # Obtener isócrona\n",
    "        coords = mapbox_isochrone(\n",
    "            base_url=\"https://api.mapbox.com/isochrone/v1/mapbox/\",\n",
    "            #routing_profile=\"driving-traffic\",\n",
    "            routing_profile=\"walking\",\n",
    "            lon=row[\"LONGITUD\"], lat=row[\"LATITUD\"],\n",
    "            #mins=5,  # Tiempo de conducción\n",
    "            meters=5000,  # Distancia\n",
    "            access_token=\"pk.eyJ1IjoiY2FybG9hZDEzMTciLCJhIjoiY200aXAzaG9lMDRrcDJyb3BlMWs5bjZxbyJ9.cMOjch9URfW3X133K7MDQw\"\n",
    "        )\n",
    "        # Convertir a polígono y añadir a la lista\n",
    "        polygon = Polygon(coords.values)\n",
    "        isochrone_list.append({\"CCT\": row[\"CCT\"], \"geometry\": polygon})\n",
    "    except Exception as e:\n",
    "        print(f\"Error al obtener la isócrona para la escuela {idx + 1}: {e}\")\n",
    "        continue\n",
    "\n",
    "    # Calcular tiempo restante\n",
    "    elapsed_time = time.time() - start_time\n",
    "    times.append(elapsed_time)\n",
    "    avg_time = sum(times) / len(times)\n",
    "    remaining_time = avg_time * (len(dataframe_ciclo) - (idx + 1)) / 60\n",
    "    print(f\"Tiempo estimado restante: {remaining_time:.2f} minutos\")"
   ]
  },
  {
   "cell_type": "code",
   "execution_count": 6,
   "metadata": {},
   "outputs": [],
   "source": [
    "import geopandas as gpd\n",
    "\n",
    "# CONVERTIR A UN GEODATAFRAME\n",
    "isochrones_gdf = gpd.GeoDataFrame(isochrone_list, crs=\"EPSG:4326\")\n",
    "#isochrones_gdf = gpd.GeoDataFrame(isochrone_list, crs=\"4326\")"
   ]
  },
  {
   "cell_type": "code",
   "execution_count": 7,
   "metadata": {},
   "outputs": [
    {
     "data": {
      "text/html": [
       "<div>\n",
       "<style scoped>\n",
       "    .dataframe tbody tr th:only-of-type {\n",
       "        vertical-align: middle;\n",
       "    }\n",
       "\n",
       "    .dataframe tbody tr th {\n",
       "        vertical-align: top;\n",
       "    }\n",
       "\n",
       "    .dataframe thead th {\n",
       "        text-align: right;\n",
       "    }\n",
       "</style>\n",
       "<table border=\"1\" class=\"dataframe\">\n",
       "  <thead>\n",
       "    <tr style=\"text-align: right;\">\n",
       "      <th></th>\n",
       "      <th>CCT</th>\n",
       "      <th>geometry</th>\n",
       "    </tr>\n",
       "  </thead>\n",
       "  <tbody>\n",
       "    <tr>\n",
       "      <th>0</th>\n",
       "      <td>Maria Luisa Ross</td>\n",
       "      <td>POLYGON ((-99.2144 19.39523, -99.21508 19.3952...</td>\n",
       "    </tr>\n",
       "    <tr>\n",
       "      <th>1</th>\n",
       "      <td>Enrique de Olavarr�a</td>\n",
       "      <td>POLYGON ((-99.17816 19.41912, -99.17916 19.419...</td>\n",
       "    </tr>\n",
       "    <tr>\n",
       "      <th>2</th>\n",
       "      <td>Independencia</td>\n",
       "      <td>POLYGON ((-99.64114 19.33347, -99.64214 19.333...</td>\n",
       "    </tr>\n",
       "    <tr>\n",
       "      <th>3</th>\n",
       "      <td>Maestro Ernesto Alconedo</td>\n",
       "      <td>POLYGON ((-99.16243 19.42426, -99.16343 19.424...</td>\n",
       "    </tr>\n",
       "    <tr>\n",
       "      <th>4</th>\n",
       "      <td>Luis Cabrera</td>\n",
       "      <td>POLYGON ((-99.15449 19.41659, -99.15549 19.416...</td>\n",
       "    </tr>\n",
       "  </tbody>\n",
       "</table>\n",
       "</div>"
      ],
      "text/plain": [
       "                        CCT                                           geometry\n",
       "0          Maria Luisa Ross  POLYGON ((-99.2144 19.39523, -99.21508 19.3952...\n",
       "1      Enrique de Olavarr�a  POLYGON ((-99.17816 19.41912, -99.17916 19.419...\n",
       "2             Independencia  POLYGON ((-99.64114 19.33347, -99.64214 19.333...\n",
       "3  Maestro Ernesto Alconedo  POLYGON ((-99.16243 19.42426, -99.16343 19.424...\n",
       "4              Luis Cabrera  POLYGON ((-99.15449 19.41659, -99.15549 19.416..."
      ]
     },
     "execution_count": 7,
     "metadata": {},
     "output_type": "execute_result"
    }
   ],
   "source": [
    "isochrones_gdf.head()"
   ]
  },
  {
   "cell_type": "code",
   "execution_count": 8,
   "metadata": {},
   "outputs": [
    {
     "name": "stderr",
     "output_type": "stream",
     "text": [
      "/tmp/ipykernel_145848/2231656122.py:3: FutureWarning: You are adding a column named 'geometry' to a GeoDataFrame constructed without an active geometry column. Currently, this automatically sets the active geometry column to 'geometry' but in the future that will no longer happen. Instead, either provide geometry to the GeoDataFrame constructor (GeoDataFrame(... geometry=GeoSeries()) or use `set_geometry('geometry')` to explicitly set the active geometry column.\n",
      "  escuelas_gdf[\"geometry\"] = None\n"
     ]
    }
   ],
   "source": [
    "# UNIR RESULTADOS CON LA BASE ORIGINAL\n",
    "escuelas_gdf = gpd.GeoDataFrame(dataframe_ciclo, geometry=None)\n",
    "escuelas_gdf[\"geometry\"] = None\n",
    "\n",
    "for idx, row in escuelas_gdf.iterrows():\n",
    "    match = isochrones_gdf[isochrones_gdf[\"CCT\"] == row[\"CCT\"]]\n",
    "    if not match.empty:\n",
    "        escuelas_gdf.at[idx, \"geometry\"] = match[\"geometry\"].values[0]"
   ]
  },
  {
   "cell_type": "code",
   "execution_count": 13,
   "metadata": {},
   "outputs": [
    {
     "data": {
      "text/html": [
       "<div>\n",
       "<style scoped>\n",
       "    .dataframe tbody tr th:only-of-type {\n",
       "        vertical-align: middle;\n",
       "    }\n",
       "\n",
       "    .dataframe tbody tr th {\n",
       "        vertical-align: top;\n",
       "    }\n",
       "\n",
       "    .dataframe thead th {\n",
       "        text-align: right;\n",
       "    }\n",
       "</style>\n",
       "<table border=\"1\" class=\"dataframe\">\n",
       "  <thead>\n",
       "    <tr style=\"text-align: right;\">\n",
       "      <th></th>\n",
       "      <th>Nombres</th>\n",
       "      <th>Apellido Paterno</th>\n",
       "      <th>Apellido Materno</th>\n",
       "      <th>CCT</th>\n",
       "      <th>LATITUD</th>\n",
       "      <th>LONGITUD</th>\n",
       "      <th>geometry</th>\n",
       "    </tr>\n",
       "  </thead>\n",
       "  <tbody>\n",
       "    <tr>\n",
       "      <th>0</th>\n",
       "      <td>Ana Luz</td>\n",
       "      <td>Suárez</td>\n",
       "      <td>Luna</td>\n",
       "      <td>Maria Luisa Ross</td>\n",
       "      <td>19.375208</td>\n",
       "      <td>-99.230397</td>\n",
       "      <td>POLYGON ((-99.2144 19.39523, -99.21508 19.3952...</td>\n",
       "    </tr>\n",
       "    <tr>\n",
       "      <th>1</th>\n",
       "      <td>Luis Roberto</td>\n",
       "      <td>Ramírez</td>\n",
       "      <td>Jiménez</td>\n",
       "      <td>Enrique de Olavarr�a</td>\n",
       "      <td>19.376023</td>\n",
       "      <td>-99.188159</td>\n",
       "      <td>POLYGON ((-99.17816 19.41912, -99.17916 19.419...</td>\n",
       "    </tr>\n",
       "    <tr>\n",
       "      <th>2</th>\n",
       "      <td>Ana Luz</td>\n",
       "      <td>Suárez</td>\n",
       "      <td>Luna</td>\n",
       "      <td>Independencia</td>\n",
       "      <td>19.297861</td>\n",
       "      <td>-99.649142</td>\n",
       "      <td>POLYGON ((-99.64114 19.33347, -99.64214 19.333...</td>\n",
       "    </tr>\n",
       "    <tr>\n",
       "      <th>3</th>\n",
       "      <td>Luis Roberto</td>\n",
       "      <td>Ramírez</td>\n",
       "      <td>Jiménez</td>\n",
       "      <td>Maestro Ernesto Alconedo</td>\n",
       "      <td>19.381043</td>\n",
       "      <td>-99.163434</td>\n",
       "      <td>POLYGON ((-99.16243 19.42426, -99.16343 19.424...</td>\n",
       "    </tr>\n",
       "    <tr>\n",
       "      <th>4</th>\n",
       "      <td>Ana Luz</td>\n",
       "      <td>Suárez</td>\n",
       "      <td>Luna</td>\n",
       "      <td>Luis Cabrera</td>\n",
       "      <td>19.371972</td>\n",
       "      <td>-99.159487</td>\n",
       "      <td>POLYGON ((-99.15449 19.41659, -99.15549 19.416...</td>\n",
       "    </tr>\n",
       "  </tbody>\n",
       "</table>\n",
       "</div>"
      ],
      "text/plain": [
       "        Nombres Apellido Paterno Apellido Materno                       CCT  \\\n",
       "0       Ana Luz           Suárez             Luna          Maria Luisa Ross   \n",
       "1  Luis Roberto          Ramírez          Jiménez      Enrique de Olavarr�a   \n",
       "2       Ana Luz           Suárez             Luna             Independencia   \n",
       "3  Luis Roberto          Ramírez          Jiménez  Maestro Ernesto Alconedo   \n",
       "4       Ana Luz           Suárez             Luna              Luis Cabrera   \n",
       "\n",
       "     LATITUD   LONGITUD                                           geometry  \n",
       "0  19.375208 -99.230397  POLYGON ((-99.2144 19.39523, -99.21508 19.3952...  \n",
       "1  19.376023 -99.188159  POLYGON ((-99.17816 19.41912, -99.17916 19.419...  \n",
       "2  19.297861 -99.649142  POLYGON ((-99.64114 19.33347, -99.64214 19.333...  \n",
       "3  19.381043 -99.163434  POLYGON ((-99.16243 19.42426, -99.16343 19.424...  \n",
       "4  19.371972 -99.159487  POLYGON ((-99.15449 19.41659, -99.15549 19.416...  "
      ]
     },
     "execution_count": 13,
     "metadata": {},
     "output_type": "execute_result"
    }
   ],
   "source": [
    "escuelas_gdf"
   ]
  },
  {
   "cell_type": "code",
   "execution_count": 10,
   "metadata": {},
   "outputs": [
    {
     "data": {
      "text/plain": [
       "Nombres               object\n",
       "Apellido Paterno      object\n",
       "Apellido Materno      object\n",
       "CCT                   object\n",
       "LATITUD              float64\n",
       "LONGITUD             float64\n",
       "geometry            geometry\n",
       "dtype: object"
      ]
     },
     "execution_count": 10,
     "metadata": {},
     "output_type": "execute_result"
    }
   ],
   "source": [
    "escuelas_gdf.dtypes"
   ]
  },
  {
   "cell_type": "code",
   "execution_count": 11,
   "metadata": {},
   "outputs": [],
   "source": [
    "#escuelas_gdf.explore()"
   ]
  },
  {
   "cell_type": "code",
   "execution_count": 14,
   "metadata": {},
   "outputs": [
    {
     "name": "stdout",
     "output_type": "stream",
     "text": [
      "        Nombres Apellido Paterno Apellido Materno                       CCT  \\\n",
      "0       Ana Luz           Suárez             Luna          Maria Luisa Ross   \n",
      "1  Luis Roberto          Ramírez          Jiménez      Enrique de Olavarr�a   \n",
      "2       Ana Luz           Suárez             Luna             Independencia   \n",
      "3  Luis Roberto          Ramírez          Jiménez  Maestro Ernesto Alconedo   \n",
      "4       Ana Luz           Suárez             Luna              Luis Cabrera   \n",
      "\n",
      "     LATITUD   LONGITUD                                           geometry  \\\n",
      "0  19.375208 -99.230397  POLYGON ((-99.2144 19.39523, -99.21508 19.3952...   \n",
      "1  19.376023 -99.188159  POLYGON ((-99.17816 19.41912, -99.17916 19.419...   \n",
      "2  19.297861 -99.649142  POLYGON ((-99.64114 19.33347, -99.64214 19.333...   \n",
      "3  19.381043 -99.163434  POLYGON ((-99.16243 19.42426, -99.16343 19.424...   \n",
      "4  19.371972 -99.159487  POLYGON ((-99.15449 19.41659, -99.15549 19.416...   \n",
      "\n",
      "                  Nombre completo  \n",
      "0           Ana Luz  Suárez  Luna  \n",
      "1  Luis Roberto  Ramírez  Jiménez  \n",
      "2           Ana Luz  Suárez  Luna  \n",
      "3  Luis Roberto  Ramírez  Jiménez  \n",
      "4           Ana Luz  Suárez  Luna  \n"
     ]
    }
   ],
   "source": [
    "#AÑADIMOS UNA NUEVA COLUMNA CON EL NOMBRE COMPLETO DE LAS PERSONAS\n",
    "escuelas_gdf['Nombre completo'] = escuelas_gdf.apply(lambda row: f\"{row['Nombres']} {row['Apellido Paterno']} {row['Apellido Materno']}\", axis=1)\n",
    "\n",
    "# Mostrar el DataFrame\n",
    "print(escuelas_gdf)"
   ]
  },
  {
   "cell_type": "code",
   "execution_count": 15,
   "metadata": {},
   "outputs": [],
   "source": [
    "import folium\n",
    "\n",
    "# VISUALIZAR RESULTADOS CON FOLIUM\n",
    "m = folium.Map(location=[19.33905855077223, -99.184823289979], zoom_start=12)\n",
    "\n",
    "for _, row in escuelas_gdf.iterrows():\n",
    "    if row[\"geometry\"] is not None:\n",
    "        folium.Polygon(\n",
    "            locations=[(p[1], p[0]) for p in list(row[\"geometry\"].exterior.coords)],\n",
    "            color=\"blue\",\n",
    "            weight=1, fill_color=\"blue\",\n",
    "            fill_opacity=0.5,\n",
    "            fill=True\n",
    "        ).add_to(m)\n",
    "        # Añadir un punto al mapa\n",
    "        folium.Marker(\n",
    "            location=[row['LATITUD'], row['LONGITUD']],  # Coordenadas del punto\n",
    "            popup=f\"Persona: {row['Nombre completo']}, CCT: {row['CCT']}\",  # Texto emergente al hacer clic en el marcador\n",
    "            icon=folium.Icon(icon='info-sign')  # Icono del marcador\n",
    "        ).add_to(m)"
   ]
  },
  {
   "cell_type": "code",
   "execution_count": 16,
   "metadata": {},
   "outputs": [
    {
     "name": "stderr",
     "output_type": "stream",
     "text": [
      "/tmp/ipykernel_145848/1695719795.py:3: UserWarning: Column names longer than 10 characters will be truncated when saved to ESRI Shapefile.\n",
      "  escuelas_gdf.to_file(\"escuelas_con_isocronas.shp\")\n",
      "/home/misael/.pyenv/versions/entorno_python_3.12.3/lib/python3.12/site-packages/pyogrio/geopandas.py:662: UserWarning: 'crs' was not provided.  The output dataset will not have projection information defined and may not be usable in other systems.\n",
      "  write(\n",
      "/home/misael/.pyenv/versions/entorno_python_3.12.3/lib/python3.12/site-packages/pyogrio/raw.py:723: RuntimeWarning: Normalized/laundered field name: 'Apellido Paterno' to 'Apellido P'\n",
      "  ogr_write(\n",
      "/home/misael/.pyenv/versions/entorno_python_3.12.3/lib/python3.12/site-packages/pyogrio/raw.py:723: RuntimeWarning: Normalized/laundered field name: 'Apellido Materno' to 'Apellido M'\n",
      "  ogr_write(\n",
      "/home/misael/.pyenv/versions/entorno_python_3.12.3/lib/python3.12/site-packages/pyogrio/raw.py:723: RuntimeWarning: Normalized/laundered field name: 'Nombre completo' to 'Nombre com'\n",
      "  ogr_write(\n"
     ]
    }
   ],
   "source": [
    "# Guardar resultados\n",
    "isochrones_gdf.to_file(\"primarias.shp\")\n",
    "escuelas_gdf.to_file(\"escuelas_con_isocronas.shp\")"
   ]
  },
  {
   "cell_type": "code",
   "execution_count": 17,
   "metadata": {},
   "outputs": [],
   "source": [
    "# Mostrar el mapa interactivo\n",
    "m.save(\"isocronas_escuelas.html\")"
   ]
  },
  {
   "cell_type": "markdown",
   "metadata": {},
   "source": [
    "En esta parte se programa un codigo para extraer de forma eficiente todas los centros de trabajo de una misma persona."
   ]
  },
  {
   "cell_type": "code",
   "execution_count": 18,
   "metadata": {},
   "outputs": [
    {
     "name": "stdout",
     "output_type": "stream",
     "text": [
      "DataFrame para Ana Luz  Suárez  Luna:\n",
      "   Nombres Apellido Paterno Apellido Materno               CCT    LATITUD  \\\n",
      "0  Ana Luz           Suárez             Luna  Maria Luisa Ross  19.375208   \n",
      "2  Ana Luz           Suárez             Luna     Independencia  19.297861   \n",
      "4  Ana Luz           Suárez             Luna      Luis Cabrera  19.371972   \n",
      "\n",
      "    LONGITUD                                           geometry  \\\n",
      "0 -99.230397  POLYGON ((-99.2144 19.39523, -99.21508 19.3952...   \n",
      "2 -99.649142  POLYGON ((-99.64114 19.33347, -99.64214 19.333...   \n",
      "4 -99.159487  POLYGON ((-99.15449 19.41659, -99.15549 19.416...   \n",
      "\n",
      "         Nombre completo  \n",
      "0  Ana Luz  Suárez  Luna  \n",
      "2  Ana Luz  Suárez  Luna  \n",
      "4  Ana Luz  Suárez  Luna  \n",
      "\n",
      "\n",
      "DataFrame para Luis Roberto  Ramírez  Jiménez:\n",
      "        Nombres Apellido Paterno Apellido Materno                       CCT  \\\n",
      "1  Luis Roberto          Ramírez          Jiménez      Enrique de Olavarr�a   \n",
      "3  Luis Roberto          Ramírez          Jiménez  Maestro Ernesto Alconedo   \n",
      "\n",
      "     LATITUD   LONGITUD                                           geometry  \\\n",
      "1  19.376023 -99.188159  POLYGON ((-99.17816 19.41912, -99.17916 19.419...   \n",
      "3  19.381043 -99.163434  POLYGON ((-99.16243 19.42426, -99.16343 19.424...   \n",
      "\n",
      "                  Nombre completo  \n",
      "1  Luis Roberto  Ramírez  Jiménez  \n",
      "3  Luis Roberto  Ramírez  Jiménez  \n",
      "\n",
      "\n"
     ]
    }
   ],
   "source": [
    "# Crear un diccionario para almacenar los DataFrames\n",
    "dataframes = {}\n",
    "\n",
    "# Agrupar por 'Nombre completo' y crear un DataFrame para cada grupo\n",
    "for name, group in escuelas_gdf.groupby('Nombre completo'):\n",
    "    dataframes[name] = group\n",
    "\n",
    "# Mostrar los DataFrames creados\n",
    "for name, df_group in dataframes.items():\n",
    "    print(f\"DataFrame para {name}:\")\n",
    "    print(df_group)\n",
    "    print(\"\\n\")"
   ]
  },
  {
   "cell_type": "code",
   "execution_count": null,
   "metadata": {},
   "outputs": [],
   "source": []
  },
  {
   "cell_type": "code",
   "execution_count": null,
   "metadata": {},
   "outputs": [
    {
     "name": "stdout",
     "output_type": "stream",
     "text": [
      "Escuela del punto: Maria Luisa Ross\n",
      "Escuela del poligono: Independencia\n",
      "dentro = False\n"
     ]
    },
    {
     "ename": "AttributeError",
     "evalue": "'DataFrame' object has no attribute 'append'",
     "output_type": "error",
     "traceback": [
      "\u001b[0;31m---------------------------------------------------------------------------\u001b[0m",
      "\u001b[0;31mAttributeError\u001b[0m                            Traceback (most recent call last)",
      "\u001b[0;32m/tmp/ipykernel_145848/1535951951.py\u001b[0m in \u001b[0;36m?\u001b[0;34m()\u001b[0m\n\u001b[1;32m     15\u001b[0m         \u001b[0mprint\u001b[0m\u001b[0;34m(\u001b[0m\u001b[0;34mf\"\u001b[0m\u001b[0;34mEscuela del poligono: \u001b[0m\u001b[0;34m{\u001b[0m\u001b[0mrowy\u001b[0m\u001b[0;34m[\u001b[0m\u001b[0;34m'CCT'\u001b[0m\u001b[0;34m]\u001b[0m\u001b[0;34m}\u001b[0m\u001b[0;34m\"\u001b[0m\u001b[0;34m)\u001b[0m\u001b[0;34m\u001b[0m\u001b[0;34m\u001b[0m\u001b[0m\n\u001b[1;32m     16\u001b[0m         \u001b[0mdentro\u001b[0m \u001b[0;34m=\u001b[0m \u001b[0mpunto\u001b[0m\u001b[0;34m.\u001b[0m\u001b[0mwithin\u001b[0m\u001b[0;34m(\u001b[0m\u001b[0mpoligono\u001b[0m\u001b[0;34m)\u001b[0m\u001b[0;34m\u001b[0m\u001b[0;34m\u001b[0m\u001b[0m\n\u001b[1;32m     17\u001b[0m         \u001b[0mprint\u001b[0m\u001b[0;34m(\u001b[0m\u001b[0;34mf\"\u001b[0m\u001b[0;34mdentro = \u001b[0m\u001b[0;34m{\u001b[0m\u001b[0mdentro\u001b[0m\u001b[0;34m}\u001b[0m\u001b[0;34m\"\u001b[0m\u001b[0;34m)\u001b[0m\u001b[0;34m\u001b[0m\u001b[0;34m\u001b[0m\u001b[0m\n\u001b[1;32m     18\u001b[0m         \u001b[0;32mif\u001b[0m \u001b[0mdentro\u001b[0m \u001b[0;34m==\u001b[0m \u001b[0;32mFalse\u001b[0m\u001b[0;34m:\u001b[0m\u001b[0;34m\u001b[0m\u001b[0;34m\u001b[0m\u001b[0m\n\u001b[0;32m---> 19\u001b[0;31m             df_out = df_out.append({'Nombre completo': row['Nombre completo'],\n\u001b[0m\u001b[1;32m     20\u001b[0m                            \u001b[0;34m'CCT 1'\u001b[0m\u001b[0;34m:\u001b[0m \u001b[0mrow\u001b[0m\u001b[0;34m[\u001b[0m\u001b[0;34m'CCT'\u001b[0m\u001b[0;34m]\u001b[0m\u001b[0;34m,\u001b[0m\u001b[0;34m\u001b[0m\u001b[0;34m\u001b[0m\u001b[0m\n\u001b[1;32m     21\u001b[0m                            \u001b[0;34m'LONGITUD 1'\u001b[0m\u001b[0;34m:\u001b[0m \u001b[0mrow\u001b[0m\u001b[0;34m[\u001b[0m\u001b[0;34m'LONGITUD'\u001b[0m\u001b[0;34m]\u001b[0m\u001b[0;34m,\u001b[0m\u001b[0;34m\u001b[0m\u001b[0;34m\u001b[0m\u001b[0m\n\u001b[1;32m     22\u001b[0m                            \u001b[0;34m'LATITUD 1'\u001b[0m\u001b[0;34m:\u001b[0m \u001b[0mrow\u001b[0m\u001b[0;34m[\u001b[0m\u001b[0;34m'LATITUD'\u001b[0m\u001b[0;34m]\u001b[0m\u001b[0;34m,\u001b[0m\u001b[0;34m\u001b[0m\u001b[0;34m\u001b[0m\u001b[0m\n",
      "\u001b[0;32m~/.pyenv/versions/entorno_python_3.12.3/lib/python3.12/site-packages/pandas/core/generic.py\u001b[0m in \u001b[0;36m?\u001b[0;34m(self, name)\u001b[0m\n\u001b[1;32m   6295\u001b[0m             \u001b[0;32mand\u001b[0m \u001b[0mname\u001b[0m \u001b[0;32mnot\u001b[0m \u001b[0;32min\u001b[0m \u001b[0mself\u001b[0m\u001b[0;34m.\u001b[0m\u001b[0m_accessors\u001b[0m\u001b[0;34m\u001b[0m\u001b[0;34m\u001b[0m\u001b[0m\n\u001b[1;32m   6296\u001b[0m             \u001b[0;32mand\u001b[0m \u001b[0mself\u001b[0m\u001b[0;34m.\u001b[0m\u001b[0m_info_axis\u001b[0m\u001b[0;34m.\u001b[0m\u001b[0m_can_hold_identifiers_and_holds_name\u001b[0m\u001b[0;34m(\u001b[0m\u001b[0mname\u001b[0m\u001b[0;34m)\u001b[0m\u001b[0;34m\u001b[0m\u001b[0;34m\u001b[0m\u001b[0m\n\u001b[1;32m   6297\u001b[0m         \u001b[0;34m)\u001b[0m\u001b[0;34m:\u001b[0m\u001b[0;34m\u001b[0m\u001b[0;34m\u001b[0m\u001b[0m\n\u001b[1;32m   6298\u001b[0m             \u001b[0;32mreturn\u001b[0m \u001b[0mself\u001b[0m\u001b[0;34m[\u001b[0m\u001b[0mname\u001b[0m\u001b[0;34m]\u001b[0m\u001b[0;34m\u001b[0m\u001b[0;34m\u001b[0m\u001b[0m\n\u001b[0;32m-> 6299\u001b[0;31m         \u001b[0;32mreturn\u001b[0m \u001b[0mobject\u001b[0m\u001b[0;34m.\u001b[0m\u001b[0m__getattribute__\u001b[0m\u001b[0;34m(\u001b[0m\u001b[0mself\u001b[0m\u001b[0;34m,\u001b[0m \u001b[0mname\u001b[0m\u001b[0;34m)\u001b[0m\u001b[0;34m\u001b[0m\u001b[0;34m\u001b[0m\u001b[0m\n\u001b[0m",
      "\u001b[0;31mAttributeError\u001b[0m: 'DataFrame' object has no attribute 'append'"
     ]
    }
   ],
   "source": [
    "from shapely.geometry import Point\n",
    "from itertools import combinations\n",
    "\n",
    "# Crear un DataFrame vacío con las columnas deseadas\n",
    "df_out = pd.DataFrame(columns=['Nombre completo', 'CCT 1', 'LONGITUD 1', 'LATITUD 1', 'geometry 1', 'CCT 2', 'LONGITUD 2', 'LATITUD 2', 'geometry 2'])\n",
    "\n",
    "filas = []\n",
    "\n",
    "# Mostrar los DataFrames creados\n",
    "for name, df_group in dataframes.items():\n",
    "    #print('Esto es ', df_group)\n",
    "    for (idx, row), (idy, rowy) in combinations(df_group.iterrows(), 2):\n",
    "        punto = Point(row['LONGITUD'], row['LATITUD'])\n",
    "        poligono = rowy['geometry']\n",
    "        print(f\"Escuela del punto: {row['CCT']}\")\n",
    "        print(f\"Escuela del poligono: {rowy['CCT']}\")\n",
    "        dentro = punto.within(poligono)\n",
    "        print(f\"dentro = {dentro}\")\n",
    "        if not dentro:\n",
    "            filappend({'Nombre completo': row['Nombre completo'],\n",
    "                           'CCT 1': row['CCT'],\n",
    "                           'LONGITUD 1': row['LONGITUD'],\n",
    "                           'LATITUD 1': row['LATITUD'],\n",
    "                           'geometry 1': row['geometry'],\n",
    "                           'CCT 2': rowy['CCT'],\n",
    "                           'LONGITUD 2': rowy['LONGITUD'],\n",
    "                           'LATITUD 2': rowy['LATITUD'],\n",
    "                           'geometry 2': rowy['geometry'],\n",
    "                           }, ignore_index=True)"
   ]
  }
 ],
 "metadata": {
  "kernelspec": {
   "display_name": "entorno_python_3.12.3",
   "language": "python",
   "name": "python3"
  },
  "language_info": {
   "codemirror_mode": {
    "name": "ipython",
    "version": 3
   },
   "file_extension": ".py",
   "mimetype": "text/x-python",
   "name": "python",
   "nbconvert_exporter": "python",
   "pygments_lexer": "ipython3",
   "version": "3.12.3"
  }
 },
 "nbformat": 4,
 "nbformat_minor": 2
}
